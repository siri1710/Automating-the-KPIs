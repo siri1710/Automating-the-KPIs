{
 "cells": [
  {
   "cell_type": "code",
   "execution_count": 57,
   "metadata": {},
   "outputs": [],
   "source": [
    "from jenkinsapi.jenkins import Jenkins\n",
    "from datetime import datetime\n",
    "import pandas as pd\n",
    "import math"
   ]
  },
  {
   "cell_type": "code",
   "execution_count": 115,
   "metadata": {},
   "outputs": [],
   "source": [
    "server = Jenkins(\"http://jenkinsqa.com/\", \"deeptha.revanna\", \"Welcome@99\")"
   ]
  },
  {
   "cell_type": "code",
   "execution_count": 132,
   "metadata": {},
   "outputs": [],
   "source": [
    "Job = server.get_job('Ganesh')"
   ]
  },
  {
   "cell_type": "code",
   "execution_count": 133,
   "metadata": {},
   "outputs": [],
   "source": [
    "Builds = Job.get_build_dict()"
   ]
  },
  {
   "cell_type": "code",
   "execution_count": 134,
   "metadata": {},
   "outputs": [
    {
     "data": {
      "text/plain": [
       "{58: 'http://jenkinsqa.production.smartbox.com/job/SmartESB/job/Ganesh/58/',\n",
       " 56: 'http://jenkinsqa.production.smartbox.com/job/SmartESB/job/Ganesh/56/',\n",
       " 53: 'http://jenkinsqa.production.smartbox.com/job/SmartESB/job/Ganesh/53/',\n",
       " 52: 'http://jenkinsqa.production.smartbox.com/job/SmartESB/job/Ganesh/52/',\n",
       " 50: 'http://jenkinsqa.production.smartbox.com/job/SmartESB/job/Ganesh/50/',\n",
       " 49: 'http://jenkinsqa.production.smartbox.com/job/SmartESB/job/Ganesh/49/',\n",
       " 48: 'http://jenkinsqa.production.smartbox.com/job/SmartESB/job/Ganesh/48/',\n",
       " 47: 'http://jenkinsqa.production.smartbox.com/job/SmartESB/job/Ganesh/47/',\n",
       " 35: 'http://jenkinsqa.production.smartbox.com/job/SmartESB/job/Ganesh/35/',\n",
       " 33: 'http://jenkinsqa.production.smartbox.com/job/SmartESB/job/Ganesh/33/'}"
      ]
     },
     "execution_count": 134,
     "metadata": {},
     "output_type": "execute_result"
    }
   ],
   "source": [
    "Builds"
   ]
  },
  {
   "cell_type": "code",
   "execution_count": 135,
   "metadata": {
    "scrolled": true
   },
   "outputs": [
    {
     "name": "stdout",
     "output_type": "stream",
     "text": [
      "Build Number : 58 Total_Count : 92 Total_Fail : 0 Time taken : 24 \n",
      "Build Number : 56 Total_Count : 92 Total_Fail : 1 Time taken : 24 \n",
      "Build Number : 53 Total_Count : 92 Total_Fail : 0 Time taken : 24 \n",
      "Build Number : 52 Total_Count : 92 Total_Fail : 1 Time taken : 24 \n",
      "Build Number : 50 Total_Count : 92 Total_Fail : 7 Time taken : 24 \n",
      "Build Number : 49 Total_Count : 92 Total_Fail : 2 Time taken : 25 \n",
      "Build Number : 48 Total_Count : 92 Total_Fail : 5 Time taken : 25 \n",
      "Build Number : 47 Total_Count : 92 Total_Fail : 4 Time taken : 24 \n",
      "Build Number : 35 Total_Count : 92 Total_Fail : 0 Time taken : 4 \n",
      "Build Number : 33 Total_Count : 69 Total_Fail : 0 Time taken : 1 \n"
     ]
    }
   ],
   "source": [
    "time = 0\n",
    "\n",
    "my_dictionary = {}\n",
    "for i in Builds:\n",
    "    my_list = []\n",
    "    data = Job.get_build(i)\n",
    "    url = data.get_result_url()\n",
    "    time = data.get_duration()\n",
    "    tM = math.floor(time.seconds/60)\n",
    "    res = data.get_data(url)\n",
    "    Total_Count = (res.get('totalCount'))\n",
    "    Total_Fail = (res.get('failCount'))\n",
    "    my_list.append(i)\n",
    "    my_list.append(Total_Count)\n",
    "    my_list.append(Total_Fail)\n",
    "    my_list.append(tM)\n",
    "    my_dictionary[i]= my_list\n",
    "    print (\"Build Number : %s Total_Count : %s Total_Fail : %s Time taken : %s \" % (i, Total_Count, Total_Fail, tM))"
   ]
  },
  {
   "cell_type": "code",
   "execution_count": 136,
   "metadata": {},
   "outputs": [
    {
     "data": {
      "text/plain": [
       "{58: [58, 92, 0, 24],\n",
       " 56: [56, 92, 1, 24],\n",
       " 53: [53, 92, 0, 24],\n",
       " 52: [52, 92, 1, 24],\n",
       " 50: [50, 92, 7, 24],\n",
       " 49: [49, 92, 2, 25],\n",
       " 48: [48, 92, 5, 25],\n",
       " 47: [47, 92, 4, 24],\n",
       " 35: [35, 92, 0, 4],\n",
       " 33: [33, 69, 0, 1]}"
      ]
     },
     "execution_count": 136,
     "metadata": {},
     "output_type": "execute_result"
    }
   ],
   "source": [
    "my_dictionary"
   ]
  },
  {
   "cell_type": "code",
   "execution_count": 137,
   "metadata": {},
   "outputs": [],
   "source": [
    "plot = pd.DataFrame(my_dictionary)"
   ]
  },
  {
   "cell_type": "code",
   "execution_count": 138,
   "metadata": {},
   "outputs": [],
   "source": [
    "colNames = [\"Build Number\",\"Total Pass\", \"Total Fail\", \"Time Taken(min)\"]"
   ]
  },
  {
   "cell_type": "code",
   "execution_count": 139,
   "metadata": {},
   "outputs": [],
   "source": [
    "data = pd.DataFrame.from_dict(my_dictionary, orient='index' , columns=colNames)"
   ]
  },
  {
   "cell_type": "code",
   "execution_count": 140,
   "metadata": {},
   "outputs": [
    {
     "data": {
      "text/html": [
       "<div>\n",
       "<style scoped>\n",
       "    .dataframe tbody tr th:only-of-type {\n",
       "        vertical-align: middle;\n",
       "    }\n",
       "\n",
       "    .dataframe tbody tr th {\n",
       "        vertical-align: top;\n",
       "    }\n",
       "\n",
       "    .dataframe thead th {\n",
       "        text-align: right;\n",
       "    }\n",
       "</style>\n",
       "<table border=\"1\" class=\"dataframe\">\n",
       "  <thead>\n",
       "    <tr style=\"text-align: right;\">\n",
       "      <th></th>\n",
       "      <th>Build Number</th>\n",
       "      <th>Total Pass</th>\n",
       "      <th>Total Fail</th>\n",
       "      <th>Time Taken(min)</th>\n",
       "    </tr>\n",
       "  </thead>\n",
       "  <tbody>\n",
       "    <tr>\n",
       "      <th>58</th>\n",
       "      <td>58</td>\n",
       "      <td>92</td>\n",
       "      <td>0</td>\n",
       "      <td>24</td>\n",
       "    </tr>\n",
       "    <tr>\n",
       "      <th>56</th>\n",
       "      <td>56</td>\n",
       "      <td>92</td>\n",
       "      <td>1</td>\n",
       "      <td>24</td>\n",
       "    </tr>\n",
       "    <tr>\n",
       "      <th>53</th>\n",
       "      <td>53</td>\n",
       "      <td>92</td>\n",
       "      <td>0</td>\n",
       "      <td>24</td>\n",
       "    </tr>\n",
       "    <tr>\n",
       "      <th>52</th>\n",
       "      <td>52</td>\n",
       "      <td>92</td>\n",
       "      <td>1</td>\n",
       "      <td>24</td>\n",
       "    </tr>\n",
       "    <tr>\n",
       "      <th>50</th>\n",
       "      <td>50</td>\n",
       "      <td>92</td>\n",
       "      <td>7</td>\n",
       "      <td>24</td>\n",
       "    </tr>\n",
       "    <tr>\n",
       "      <th>49</th>\n",
       "      <td>49</td>\n",
       "      <td>92</td>\n",
       "      <td>2</td>\n",
       "      <td>25</td>\n",
       "    </tr>\n",
       "    <tr>\n",
       "      <th>48</th>\n",
       "      <td>48</td>\n",
       "      <td>92</td>\n",
       "      <td>5</td>\n",
       "      <td>25</td>\n",
       "    </tr>\n",
       "    <tr>\n",
       "      <th>47</th>\n",
       "      <td>47</td>\n",
       "      <td>92</td>\n",
       "      <td>4</td>\n",
       "      <td>24</td>\n",
       "    </tr>\n",
       "    <tr>\n",
       "      <th>35</th>\n",
       "      <td>35</td>\n",
       "      <td>92</td>\n",
       "      <td>0</td>\n",
       "      <td>4</td>\n",
       "    </tr>\n",
       "    <tr>\n",
       "      <th>33</th>\n",
       "      <td>33</td>\n",
       "      <td>69</td>\n",
       "      <td>0</td>\n",
       "      <td>1</td>\n",
       "    </tr>\n",
       "  </tbody>\n",
       "</table>\n",
       "</div>"
      ],
      "text/plain": [
       "    Build Number  Total Pass  Total Fail  Time Taken(min)\n",
       "58            58          92           0               24\n",
       "56            56          92           1               24\n",
       "53            53          92           0               24\n",
       "52            52          92           1               24\n",
       "50            50          92           7               24\n",
       "49            49          92           2               25\n",
       "48            48          92           5               25\n",
       "47            47          92           4               24\n",
       "35            35          92           0                4\n",
       "33            33          69           0                1"
      ]
     },
     "execution_count": 140,
     "metadata": {},
     "output_type": "execute_result"
    }
   ],
   "source": [
    "data"
   ]
  },
  {
   "cell_type": "code",
   "execution_count": 141,
   "metadata": {},
   "outputs": [
    {
     "data": {
      "text/html": [
       "<div>\n",
       "<style scoped>\n",
       "    .dataframe tbody tr th:only-of-type {\n",
       "        vertical-align: middle;\n",
       "    }\n",
       "\n",
       "    .dataframe tbody tr th {\n",
       "        vertical-align: top;\n",
       "    }\n",
       "\n",
       "    .dataframe thead th {\n",
       "        text-align: right;\n",
       "    }\n",
       "</style>\n",
       "<table border=\"1\" class=\"dataframe\">\n",
       "  <thead>\n",
       "    <tr style=\"text-align: right;\">\n",
       "      <th></th>\n",
       "      <th>Build Number</th>\n",
       "      <th>Total Pass</th>\n",
       "      <th>Total Fail</th>\n",
       "      <th>Time Taken(min)</th>\n",
       "    </tr>\n",
       "  </thead>\n",
       "  <tbody>\n",
       "    <tr>\n",
       "      <th>33</th>\n",
       "      <td>33</td>\n",
       "      <td>69</td>\n",
       "      <td>0</td>\n",
       "      <td>1</td>\n",
       "    </tr>\n",
       "    <tr>\n",
       "      <th>35</th>\n",
       "      <td>35</td>\n",
       "      <td>92</td>\n",
       "      <td>0</td>\n",
       "      <td>4</td>\n",
       "    </tr>\n",
       "    <tr>\n",
       "      <th>47</th>\n",
       "      <td>47</td>\n",
       "      <td>92</td>\n",
       "      <td>4</td>\n",
       "      <td>24</td>\n",
       "    </tr>\n",
       "    <tr>\n",
       "      <th>48</th>\n",
       "      <td>48</td>\n",
       "      <td>92</td>\n",
       "      <td>5</td>\n",
       "      <td>25</td>\n",
       "    </tr>\n",
       "    <tr>\n",
       "      <th>49</th>\n",
       "      <td>49</td>\n",
       "      <td>92</td>\n",
       "      <td>2</td>\n",
       "      <td>25</td>\n",
       "    </tr>\n",
       "    <tr>\n",
       "      <th>50</th>\n",
       "      <td>50</td>\n",
       "      <td>92</td>\n",
       "      <td>7</td>\n",
       "      <td>24</td>\n",
       "    </tr>\n",
       "    <tr>\n",
       "      <th>52</th>\n",
       "      <td>52</td>\n",
       "      <td>92</td>\n",
       "      <td>1</td>\n",
       "      <td>24</td>\n",
       "    </tr>\n",
       "    <tr>\n",
       "      <th>53</th>\n",
       "      <td>53</td>\n",
       "      <td>92</td>\n",
       "      <td>0</td>\n",
       "      <td>24</td>\n",
       "    </tr>\n",
       "    <tr>\n",
       "      <th>56</th>\n",
       "      <td>56</td>\n",
       "      <td>92</td>\n",
       "      <td>1</td>\n",
       "      <td>24</td>\n",
       "    </tr>\n",
       "    <tr>\n",
       "      <th>58</th>\n",
       "      <td>58</td>\n",
       "      <td>92</td>\n",
       "      <td>0</td>\n",
       "      <td>24</td>\n",
       "    </tr>\n",
       "  </tbody>\n",
       "</table>\n",
       "</div>"
      ],
      "text/plain": [
       "    Build Number  Total Pass  Total Fail  Time Taken(min)\n",
       "33            33          69           0                1\n",
       "35            35          92           0                4\n",
       "47            47          92           4               24\n",
       "48            48          92           5               25\n",
       "49            49          92           2               25\n",
       "50            50          92           7               24\n",
       "52            52          92           1               24\n",
       "53            53          92           0               24\n",
       "56            56          92           1               24\n",
       "58            58          92           0               24"
      ]
     },
     "execution_count": 141,
     "metadata": {},
     "output_type": "execute_result"
    }
   ],
   "source": [
    "reversed_df = data.iloc[::-1]\n",
    "reversed_df"
   ]
  },
  {
   "cell_type": "code",
   "execution_count": 142,
   "metadata": {},
   "outputs": [
    {
     "data": {
      "image/png": "[encoded data removed]",
      "text/plain": [
       "<Figure size 432x288 with 1 Axes>"
      ]
     },
     "metadata": {
      "needs_background": "light"
     },
     "output_type": "display_data"
    }
   ],
   "source": [
    "ax = reversed_df.plot.bar(x='Build Number', y='Total Pass', rot=0)"
   ]
  },
  {
   "cell_type": "code",
   "execution_count": 160,
   "metadata": {},
   "outputs": [
    {
     "data": {
      "text/plain": [
       "[Text(0, 0.5, 'Feature count')]"
      ]
     },
     "execution_count": 160,
     "metadata": {},
     "output_type": "execute_result"
    },
    {
     "data": {
      "image/png": "[encoded data removed]",
      "text/plain": [
       "<Figure size 1080x360 with 1 Axes>"
      ]
     },
     "metadata": {
      "needs_background": "light"
     },
     "output_type": "display_data"
    }
   ],
   "source": [
    "from itertools import cycle, islice\n",
    "\n",
    "x= data[['Build Number','Total Pass','Total Fail']]\n",
    "y= x.set_index('Build Number')\n",
    "z=y.groupby('Build Number').mean()\n",
    "\n",
    "my_colors = list(islice(cycle(['g', 'r']*5 ), None, len(plot)))\n",
    "\n",
    "graph = z.plot.bar(stacked=True, figsize=(15,5), color=my_colors, title='GANESH REGRESSION STABILITY')   \n",
    "\n",
    "graph.set(ylabel='Feature count')"
   ]
  },
  {
   "cell_type": "code",
   "execution_count": 161,
   "metadata": {},
   "outputs": [
    {
     "data": {
      "text/plain": [
       "<matplotlib.axes._subplots.AxesSubplot at 0x105d5898>"
      ]
     },
     "execution_count": 161,
     "metadata": {},
     "output_type": "execute_result"
    },
    {
     "data": {
      "image/png": "[encoded data removed]",
      "text/plain": [
       "<Figure size 432x288 with 1 Axes>"
      ]
     },
     "metadata": {
      "needs_background": "light"
     },
     "output_type": "display_data"
    }
   ],
   "source": [
    "ax = plt.gca()\n",
    "data.plot(style='s:',kind='line',x='Build Number',y='Time Taken(min)',ax=ax, title='Regression Time')"
   ]
  },
  {
   "cell_type": "code",
   "execution_count": null,
   "metadata": {},
   "outputs": [],
   "source": []
  }
 ],
 "metadata": {
  "kernelspec": {
   "display_name": "Python 3",
   "language": "python",
   "name": "python3"
  },
  "language_info": {
   "codemirror_mode": {
    "name": "ipython",
    "version": 3
   },
   "file_extension": ".py",
   "mimetype": "text/x-python",
   "name": "python",
   "nbconvert_exporter": "python",
   "pygments_lexer": "ipython3",
   "version": "3.7.3"
  }
 },
 "nbformat": 4,
 "nbformat_minor": 2
}
